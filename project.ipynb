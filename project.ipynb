{
 "cells": [
  {
   "cell_type": "code",
   "execution_count": null,
   "metadata": {},
   "outputs": [],
   "source": [
    "# i have recorded myself breathing by covering my microphone using a cloth to mimic the similarity of breathing into a mask\n",
    "# i have opened the vedio in audacity application \n",
    "# i have applied a high-pass filter that filters frequencies below 2000 hz and has a roll off of 48 deci\n",
    "# i have applied a low-pass filter that filters frequencies above 4000 hz and has a roll off of 48 deci\n",
    "# between 2000hz and 4000hz the breathing information lies\n",
    "# video: https://youtu.be/pIdL0qrXHCY"
   ]
  },
  {
   "cell_type": "markdown",
   "metadata": {},
   "source": []
  },
  {
   "cell_type": "code",
   "execution_count": null,
   "metadata": {},
   "outputs": [],
   "source": []
  }
 ],
 "metadata": {
  "kernelspec": {
   "display_name": "Python 3",
   "language": "python",
   "name": "python3"
  },
  "language_info": {
   "codemirror_mode": {
    "name": "ipython",
    "version": 3
   },
   "file_extension": ".py",
   "mimetype": "text/x-python",
   "name": "python",
   "nbconvert_exporter": "python",
   "pygments_lexer": "ipython3",
   "version": "3.8.5"
  }
 },
 "nbformat": 4,
 "nbformat_minor": 4
}
